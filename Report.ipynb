{
 "cells": [
  {
   "cell_type": "markdown",
   "metadata": {},
   "source": [
    "<h1 align=\"center\"><font face = \"Times New Roman\" size = \"80\">H.264 Video Compression</font></h1>\n",
    "<h2 align=\"center\"><font face = \"Times New Roman\" size = \"\"> Information theory and coding</font></h2>\n",
    "<h3 align=\"center\"><font face = \"Times New Roman\"> Fall 2019</font></h3>\n",
    "<h5 align=\"center\"><font face = \"Times New Roman\"\">Alaa Mohamed Roshdy&nbsp 201600031</font></h5>\n",
    "<h5 align=\"center\"><font face = \"Times New Roman\">Mohamed Adham Mahrous&nbsp 201601078</font></h5>\n",
    "<h5 align=\"center\"><font face = \"Times New Roman\">Mohamed Mostafa Hamed&nbsp 201600236</font></h5>\n",
    "<h5 align=\"center\"><font face = \"Times New Roman\">Mohamed Kasem Saber&nbsp 201601144</font></h5>\n",
    "\n",
    "\n",
    "\n",
    "\n",
    "---\n",
    "\n"
   ]
  },
  {
   "cell_type": "markdown",
   "metadata": {},
   "source": [
    "## Introduction\n",
    "\n",
    "H.264 is a highly common video compression technique that is widely used with the common and well known format of .mp4. In this project, we implement a fully working encoder and decoder for the H.264 technique. In order to explore our results, we compare different compression rates by choosing how many reference frames to choose which shall give different video qualities that degenerate at high compression rates. Throught the paper, we use a block_size of 16 x 16 for the reference frames to carry out the motion estimation and compensation (predicting frames). Although the code is modular and can work with any given block size, we have chosen 16 x 16 to be our test case. \n"
   ]
  },
  {
   "cell_type": "code",
   "execution_count": 2,
   "metadata": {},
   "outputs": [],
   "source": [
    "from matplotlib import pyplot as plt\n",
    "import cv2\n",
    "from IPython.display import Video # To display the video in the notebook\n",
    "import numpy as np"
   ]
  },
  {
   "cell_type": "code",
   "execution_count": 3,
   "metadata": {
    "scrolled": true
   },
   "outputs": [
    {
     "data": {
      "text/html": [
       "<video src=\"mountain.mp4\" controls  >\n",
       "      Your browser does not support the <code>video</code> element.\n",
       "    </video>"
      ],
      "text/plain": [
       "<IPython.core.display.Video object>"
      ]
     },
     "execution_count": 3,
     "metadata": {},
     "output_type": "execute_result"
    }
   ],
   "source": [
    "# Play the video\n",
    "Video(\"mountain.mp4\")"
   ]
  },
  {
   "cell_type": "markdown",
   "metadata": {},
   "source": [
    "## Video Compression\n",
    "\n",
    "This diagram represents the encoding process. There are 2 main models in this scheme, namely, temporal and spatial models. Temporal being the time component which is where we find the highest redundancy and where lies most of the potential for compression. Leveraging the redundancy in adjacent frames in a smart and efficient way can provide high compression capabilities with little damage to the data. On the other hand, the spatial model offers yet another way to compress the data even further. Shown below is the block diagram used to implement the video compression. ![video_compression pipeline diagram](images/block_diagram.jpg) (Reference to H.264 and MPEG 4 Video Compression book by Iain Richardson)"
   ]
  },
  {
   "cell_type": "markdown",
   "metadata": {},
   "source": [
    "We first read the video in a for loop and store each frame in the video in an array called vid_frame. Then, this "
   ]
  },
  {
   "cell_type": "code",
   "execution_count": 6,
   "metadata": {},
   "outputs": [],
   "source": [
    "import numpy as np\n",
    "from PIL import Image\n",
    "\n",
    "import Encoder as E\n",
    "import julia \n",
    "jl = julia.Julia()\n",
    "jl.include('bac.jl')\n",
    "jl.include('motion_estimation.jl')\n",
    "path=\"mountain.mp4\"\n",
    "predictedPerRef=5 \n",
    "no_frames = 5\n",
    "Resolution=1\n",
    "vid_frame=E.get_video_frames(path,no_frames,Resolution)\n",
    "ref_frames=vid_frame[::predictedPerRef]\n",
    "vid_mv=[]\n",
    "vid_residuals=[]\n",
    "vid_predicted=[]\n",
    "c = 1\n",
    "for j in range(0,np.int(len(vid_frame)/predictedPerRef)):\n",
    "\n",
    "    #Reshaping the reference frames to use in the coming blocks\n",
    "    im_ref,_,_=E.get_sub_images(E.reshape_image(ref_frames[j][0]))\n",
    "\n",
    "    for i in range(0,predictedPerRef-1):\n",
    "        #Reshaping the current frame \n",
    "        current_im_blocks, nrows, ncols = E.get_sub_images(E.reshape_image(vid_frame[c][0]))\n",
    "        \n",
    "        #Motion estimation \n",
    "        mv = jl.motion_estimation_to_all(ref_frames[j][0], current_im_blocks, nrows, ncols, 32)\n",
    "\n",
    "        #Motion Compensation\n",
    "        p_image = E.predict(im_ref,mv, ref_frames[0][0].shape[0], ref_frames[0][0].shape[1])\n",
    "\n",
    "        #Calculating the residuals\n",
    "        residual_frame=E.residual(vid_frame[c][0],p_image)\n",
    "        # appending motion vectors and residual frames to change into bits\n",
    "        vid_mv.append(mv)\n",
    "        vid_residuals.append(residual_frame)\n",
    "        vid_predicted.append(p_image)"
   ]
  },
  {
   "cell_type": "code",
   "execution_count": 15,
   "metadata": {},
   "outputs": [
    {
     "name": "stdout",
     "output_type": "stream",
     "text": [
      " The saved video array has dimensions:  (5,)\n",
      "Dimensions of the ref image is  (720, 960)\n",
      "Dimensions of the ref divided is (2700, 16, 16)\n"
     ]
    },
    {
     "data": {
      "text/plain": [
       "Text(0.5, 1.0, 'Sample macroblock')"
      ]
     },
     "execution_count": 15,
     "metadata": {},
     "output_type": "execute_result"
    },
    {
     "data": {
      "image/png": "[encoded data removed]",
      "text/plain": [
       "<Figure size 432x288 with 1 Axes>"
      ]
     },
     "metadata": {
      "needs_background": "light"
     },
     "output_type": "display_data"
    }
   ],
   "source": [
    "# Print out some statistics about the frames.\n",
    "import Encoder as e\n",
    "im_blocks_ref, n_rows, n_cols = e.get_sub_images(e.reshape_image(vid_frame[0][0]))\n",
    "im_blocks_p, __, __ = e.get_sub_images(e.reshape_image(vid_frame[0][0]))\n",
    "print('Dimensions of the ref image is ', vid_frame[0][0].shape)\n",
    "print('Dimensions of the ref divided is', im_blocks_ref.shape)\n",
    "\n",
    "plt.imshow(im_blocks_ref[1700])\n",
    "plt.title(\"Sample macroblock\")"
   ]
  },
  {
   "cell_type": "code",
   "execution_count": null,
   "metadata": {},
   "outputs": [],
   "source": []
  }
 ],
 "metadata": {
  "kernelspec": {
   "display_name": "Python 3",
   "language": "python",
   "name": "python3"
  },
  "language_info": {
   "codemirror_mode": {
    "name": "ipython",
    "version": 3
   },
   "file_extension": ".py",
   "mimetype": "text/x-python",
   "name": "python",
   "nbconvert_exporter": "python",
   "pygments_lexer": "ipython3",
   "version": "3.7.1"
  }
 },
 "nbformat": 4,
 "nbformat_minor": 2
}
